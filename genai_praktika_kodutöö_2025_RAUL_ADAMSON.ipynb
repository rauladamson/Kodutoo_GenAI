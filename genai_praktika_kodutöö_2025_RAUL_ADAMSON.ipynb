{
  "nbformat": 4,
  "nbformat_minor": 0,
  "metadata": {
    "colab": {
      "provenance": [],
      "gpuType": "T4",
      "include_colab_link": true
    },
    "kernelspec": {
      "name": "python3",
      "display_name": "Python 3"
    },
    "language_info": {
      "name": "python"
    },
    "accelerator": "GPU"
  },
  "cells": [
    {
      "cell_type": "markdown",
      "metadata": {
        "id": "view-in-github",
        "colab_type": "text"
      },
      "source": [
        "<a href=\"https://colab.research.google.com/github/rauladamson/Kodutoo_GenAI/blob/dev/genai_praktika_kodut%C3%B6%C3%B6_2025_RAUL_ADAMSON.ipynb\" target=\"_parent\"><img src=\"https://colab.research.google.com/assets/colab-badge.svg\" alt=\"Open In Colab\"/></a>"
      ]
    },
    {
      "cell_type": "markdown",
      "source": [
        "# Kodutöö GenAI praktika kandidaadile\n",
        "Aprill 2025\n",
        "\n",
        "**Kandideerija nimi:** Raul Adamson\n",
        "\n",
        "Juhised:\n",
        "* Palun loo sellest failist koopia ning kirjuta faili nimesse oma nimi.\n",
        "* Kodutöös on kaks ülesannet. Esimesel ülesandel on 9 alamülesannet. Teine ülesanne on valikuline ja sellel pole alamülesandeid.\n",
        "* Lahenda ülesanded ühes Jupyter Notebooki failis. Võid teha juurde code cell'e, installida teeke juurde jne.\n",
        "* Lahendamisel kasuta Python programmeerimiskeelt.\n",
        "* Kui kasutad koodijuppe muudest allikatest (nt blogi, dokumentatsioon, StackOverflow), siis viita nendele.\n",
        "* AI assistendi/chatboti abi koodi kirjutamisel on lubatud, kuid kommentaarid ja põhjendused tuleb kirjutada ise. Oluline on, et saaksid lahendusest ka ise aru.\n",
        "* Google Gemini API-t ja teisi API-sid peaks kasutama ainult tasuta mahus. Eelistatud on vabavaralised ja tasuta tööriistad.\n",
        "* Saada lahendatud kodutöö Google Colab faili link või Githubi üles laetud faili link e-mailile kea.kohv@telia.ee. Githubi puhul veendu, et Kea Kohvile (keakohv) on antud repository'le lugemisõigus.\n",
        "* Veendu, et notebook on läbi jooksutatud ning cell output näha. Me ei jooksuta lahendusi ise läbi.\n",
        "* Kodutöö lõpus on tagasiside lahter, palun täida ka see.\n",
        "* Lahendus saada hiljemalt pühapäeval, 27.04.2025 kl 23.59."
      ],
      "metadata": {
        "id": "AZ5xeVjAZdMl"
      }
    },
    {
      "cell_type": "markdown",
      "source": [
        "# 1. ülesanne"
      ],
      "metadata": {
        "id": "SGR90CcCaiYT"
      }
    },
    {
      "cell_type": "markdown",
      "source": [
        "Esimeses ülesandes laeme alla failid ning muudame need tavaliseks tekstiks; kasutame vektorotsingut ning hübriidotsingut, et leida fraasidele kõige relevantsemaid tekstijuppe; genereerime mudeliga vastuseid nii ilma kontekstita kui ka kontekstiga ehk koos relevantse infoga."
      ],
      "metadata": {
        "id": "6WbczaVtTp7H"
      }
    },
    {
      "cell_type": "markdown",
      "source": [
        "## 1.1 alamülesanne\n",
        "\n",
        "Lae alla need 2 PDF faili:\n",
        "\n",
        "https://www.telia.ee/images/documents/TELIA_raport_EST_2024.pdf\n",
        "https://www.telia.ee/images/documents/hinnakirjad/est/telia_eesti_ariteenused_yldosa.pdf\n",
        "\n",
        "Samuti lae alla selle veebilehe sisu HTML formaadis:\n",
        "https://digitark.telia.ee/era/rohde-schwarz-eestis-on-mobiilse-interneti-kiirus-huppeliselt-kasvanud/\n"
      ],
      "metadata": {
        "id": "LOhVKpf_lgwE"
      }
    },
    {
      "cell_type": "code",
      "source": [
        "import requests\n",
        "import os\n",
        "from urllib.parse import urlparse\n",
        "\n",
        "def download_file(url, save_dir='downloads'):\n",
        "    try:\n",
        "        # Create directory if it doesn't exist\n",
        "        if not os.path.exists(save_dir):\n",
        "            os.makedirs(save_dir)\n",
        "\n",
        "        # Get the filename from URL\n",
        "        parsed_url = urlparse(url)\n",
        "        filename = os.path.basename(parsed_url.path)\n",
        "        if not filename:\n",
        "            filename = \"downloaded_file.html\"  # Default name if no filename found\n",
        "\n",
        "        # Download the file\n",
        "        response = requests.get(url, stream=True)\n",
        "        response.raise_for_status()  # Raise an error for bad status codes\n",
        "\n",
        "        # Save the file\n",
        "        file_path = os.path.join(save_dir, filename)\n",
        "        with open(file_path, 'wb') as f:\n",
        "            for chunk in response.iter_content(chunk_size=8192):\n",
        "                if chunk:  # filter out keep-alive new chunks\n",
        "                    f.write(chunk)\n",
        "\n",
        "        print(f\"Successfully downloaded: {file_path}\")\n",
        "        return file_path\n",
        "\n",
        "    except Exception as e:\n",
        "        print(f\"Failed to download {url}: {e}\")\n",
        "        return None\n",
        "\n",
        "# List of URLs to download\n",
        "urls = [\n",
        "    \"https://www.telia.ee/images/documents/TELIA_raport_EST_2024.pdf\",\n",
        "    \"https://www.telia.ee/images/documents/hinnakirjad/est/telia_eesti_ariteenused_yldosa.pdf\",\n",
        "    \"https://digitark.telia.ee/era/rohde-schwarz-eestis-on-mobiilse-interneti-kiirus-huppeliselt-kasvanud/\"\n",
        "]\n",
        "\n",
        "# Download all files\n",
        "for url in urls:\n",
        "    download_file(url)\n",
        "    print(\"All files downloaded.\")"
      ],
      "metadata": {
        "id": "LkOlJdECnBul",
        "outputId": "3e90e0c7-51ad-41fd-8e73-f0d972477ebf",
        "colab": {
          "base_uri": "https://localhost:8080/",
          "height": 347
        }
      },
      "execution_count": 8,
      "outputs": [
        {
          "output_type": "error",
          "ename": "KeyboardInterrupt",
          "evalue": "",
          "traceback": [
            "\u001b[0;31m---------------------------------------------------------------------------\u001b[0m",
            "\u001b[0;31mKeyboardInterrupt\u001b[0m                         Traceback (most recent call last)",
            "\u001b[0;32m<ipython-input-8-1a782d6c7768>\u001b[0m in \u001b[0;36m<cell line: 0>\u001b[0;34m()\u001b[0m\n\u001b[1;32m     42\u001b[0m \u001b[0;31m# Download all files\u001b[0m\u001b[0;34m\u001b[0m\u001b[0;34m\u001b[0m\u001b[0m\n\u001b[1;32m     43\u001b[0m \u001b[0;32mfor\u001b[0m \u001b[0murl\u001b[0m \u001b[0;32min\u001b[0m \u001b[0murls\u001b[0m\u001b[0;34m:\u001b[0m\u001b[0;34m\u001b[0m\u001b[0;34m\u001b[0m\u001b[0m\n\u001b[0;32m---> 44\u001b[0;31m     \u001b[0mdownload_file\u001b[0m\u001b[0;34m(\u001b[0m\u001b[0murl\u001b[0m\u001b[0;34m)\u001b[0m\u001b[0;34m\u001b[0m\u001b[0;34m\u001b[0m\u001b[0m\n\u001b[0m\u001b[1;32m     45\u001b[0m     \u001b[0mprint\u001b[0m\u001b[0;34m(\u001b[0m\u001b[0;34m\"All files downloaded.\"\u001b[0m\u001b[0;34m)\u001b[0m\u001b[0;34m\u001b[0m\u001b[0;34m\u001b[0m\u001b[0m\n",
            "\u001b[0;32m<ipython-input-8-1a782d6c7768>\u001b[0m in \u001b[0;36mdownload_file\u001b[0;34m(url, save_dir)\u001b[0m\n\u001b[1;32m     22\u001b[0m         \u001b[0mfile_path\u001b[0m \u001b[0;34m=\u001b[0m \u001b[0mos\u001b[0m\u001b[0;34m.\u001b[0m\u001b[0mpath\u001b[0m\u001b[0;34m.\u001b[0m\u001b[0mjoin\u001b[0m\u001b[0;34m(\u001b[0m\u001b[0msave_dir\u001b[0m\u001b[0;34m,\u001b[0m \u001b[0mfilename\u001b[0m\u001b[0;34m)\u001b[0m\u001b[0;34m\u001b[0m\u001b[0;34m\u001b[0m\u001b[0m\n\u001b[1;32m     23\u001b[0m         \u001b[0;32mwith\u001b[0m \u001b[0mopen\u001b[0m\u001b[0;34m(\u001b[0m\u001b[0mfile_path\u001b[0m\u001b[0;34m,\u001b[0m \u001b[0;34m'wb'\u001b[0m\u001b[0;34m)\u001b[0m \u001b[0;32mas\u001b[0m \u001b[0mf\u001b[0m\u001b[0;34m:\u001b[0m\u001b[0;34m\u001b[0m\u001b[0;34m\u001b[0m\u001b[0m\n\u001b[0;32m---> 24\u001b[0;31m             \u001b[0;32mfor\u001b[0m \u001b[0mchunk\u001b[0m \u001b[0;32min\u001b[0m \u001b[0mresponse\u001b[0m\u001b[0;34m.\u001b[0m\u001b[0miter_content\u001b[0m\u001b[0;34m(\u001b[0m\u001b[0mchunk_size\u001b[0m\u001b[0;34m=\u001b[0m\u001b[0;36m8192\u001b[0m\u001b[0;34m)\u001b[0m\u001b[0;34m:\u001b[0m\u001b[0;34m\u001b[0m\u001b[0;34m\u001b[0m\u001b[0m\n\u001b[0m\u001b[1;32m     25\u001b[0m                 \u001b[0;32mif\u001b[0m \u001b[0mchunk\u001b[0m\u001b[0;34m:\u001b[0m  \u001b[0;31m# filter out keep-alive new chunks\u001b[0m\u001b[0;34m\u001b[0m\u001b[0;34m\u001b[0m\u001b[0m\n\u001b[1;32m     26\u001b[0m                     \u001b[0mf\u001b[0m\u001b[0;34m.\u001b[0m\u001b[0mwrite\u001b[0m\u001b[0;34m(\u001b[0m\u001b[0mchunk\u001b[0m\u001b[0;34m)\u001b[0m\u001b[0;34m\u001b[0m\u001b[0;34m\u001b[0m\u001b[0m\n",
            "\u001b[0;32m/usr/local/lib/python3.11/dist-packages/requests/models.py\u001b[0m in \u001b[0;36mgenerate\u001b[0;34m()\u001b[0m\n\u001b[1;32m    818\u001b[0m             \u001b[0;32mif\u001b[0m \u001b[0mhasattr\u001b[0m\u001b[0;34m(\u001b[0m\u001b[0mself\u001b[0m\u001b[0;34m.\u001b[0m\u001b[0mraw\u001b[0m\u001b[0;34m,\u001b[0m \u001b[0;34m\"stream\"\u001b[0m\u001b[0;34m)\u001b[0m\u001b[0;34m:\u001b[0m\u001b[0;34m\u001b[0m\u001b[0;34m\u001b[0m\u001b[0m\n\u001b[1;32m    819\u001b[0m                 \u001b[0;32mtry\u001b[0m\u001b[0;34m:\u001b[0m\u001b[0;34m\u001b[0m\u001b[0;34m\u001b[0m\u001b[0m\n\u001b[0;32m--> 820\u001b[0;31m                     \u001b[0;32myield\u001b[0m \u001b[0;32mfrom\u001b[0m \u001b[0mself\u001b[0m\u001b[0;34m.\u001b[0m\u001b[0mraw\u001b[0m\u001b[0;34m.\u001b[0m\u001b[0mstream\u001b[0m\u001b[0;34m(\u001b[0m\u001b[0mchunk_size\u001b[0m\u001b[0;34m,\u001b[0m \u001b[0mdecode_content\u001b[0m\u001b[0;34m=\u001b[0m\u001b[0;32mTrue\u001b[0m\u001b[0;34m)\u001b[0m\u001b[0;34m\u001b[0m\u001b[0;34m\u001b[0m\u001b[0m\n\u001b[0m\u001b[1;32m    821\u001b[0m                 \u001b[0;32mexcept\u001b[0m \u001b[0mProtocolError\u001b[0m \u001b[0;32mas\u001b[0m \u001b[0me\u001b[0m\u001b[0;34m:\u001b[0m\u001b[0;34m\u001b[0m\u001b[0;34m\u001b[0m\u001b[0m\n\u001b[1;32m    822\u001b[0m                     \u001b[0;32mraise\u001b[0m \u001b[0mChunkedEncodingError\u001b[0m\u001b[0;34m(\u001b[0m\u001b[0me\u001b[0m\u001b[0;34m)\u001b[0m\u001b[0;34m\u001b[0m\u001b[0;34m\u001b[0m\u001b[0m\n",
            "\u001b[0;32m/usr/local/lib/python3.11/dist-packages/urllib3/response.py\u001b[0m in \u001b[0;36mstream\u001b[0;34m(self, amt, decode_content)\u001b[0m\n\u001b[1;32m   1064\u001b[0m         \u001b[0;32melse\u001b[0m\u001b[0;34m:\u001b[0m\u001b[0;34m\u001b[0m\u001b[0;34m\u001b[0m\u001b[0m\n\u001b[1;32m   1065\u001b[0m             \u001b[0;32mwhile\u001b[0m \u001b[0;32mnot\u001b[0m \u001b[0mis_fp_closed\u001b[0m\u001b[0;34m(\u001b[0m\u001b[0mself\u001b[0m\u001b[0;34m.\u001b[0m\u001b[0m_fp\u001b[0m\u001b[0;34m)\u001b[0m \u001b[0;32mor\u001b[0m \u001b[0mlen\u001b[0m\u001b[0;34m(\u001b[0m\u001b[0mself\u001b[0m\u001b[0;34m.\u001b[0m\u001b[0m_decoded_buffer\u001b[0m\u001b[0;34m)\u001b[0m \u001b[0;34m>\u001b[0m \u001b[0;36m0\u001b[0m\u001b[0;34m:\u001b[0m\u001b[0;34m\u001b[0m\u001b[0;34m\u001b[0m\u001b[0m\n\u001b[0;32m-> 1066\u001b[0;31m                 \u001b[0mdata\u001b[0m \u001b[0;34m=\u001b[0m \u001b[0mself\u001b[0m\u001b[0;34m.\u001b[0m\u001b[0mread\u001b[0m\u001b[0;34m(\u001b[0m\u001b[0mamt\u001b[0m\u001b[0;34m=\u001b[0m\u001b[0mamt\u001b[0m\u001b[0;34m,\u001b[0m \u001b[0mdecode_content\u001b[0m\u001b[0;34m=\u001b[0m\u001b[0mdecode_content\u001b[0m\u001b[0;34m)\u001b[0m\u001b[0;34m\u001b[0m\u001b[0;34m\u001b[0m\u001b[0m\n\u001b[0m\u001b[1;32m   1067\u001b[0m \u001b[0;34m\u001b[0m\u001b[0m\n\u001b[1;32m   1068\u001b[0m                 \u001b[0;32mif\u001b[0m \u001b[0mdata\u001b[0m\u001b[0;34m:\u001b[0m\u001b[0;34m\u001b[0m\u001b[0;34m\u001b[0m\u001b[0m\n",
            "\u001b[0;32m/usr/local/lib/python3.11/dist-packages/urllib3/response.py\u001b[0m in \u001b[0;36mread\u001b[0;34m(self, amt, decode_content, cache_content)\u001b[0m\n\u001b[1;32m    953\u001b[0m                 \u001b[0;32mreturn\u001b[0m \u001b[0mself\u001b[0m\u001b[0;34m.\u001b[0m\u001b[0m_decoded_buffer\u001b[0m\u001b[0;34m.\u001b[0m\u001b[0mget\u001b[0m\u001b[0;34m(\u001b[0m\u001b[0mamt\u001b[0m\u001b[0;34m)\u001b[0m\u001b[0;34m\u001b[0m\u001b[0;34m\u001b[0m\u001b[0m\n\u001b[1;32m    954\u001b[0m \u001b[0;34m\u001b[0m\u001b[0m\n\u001b[0;32m--> 955\u001b[0;31m         \u001b[0mdata\u001b[0m \u001b[0;34m=\u001b[0m \u001b[0mself\u001b[0m\u001b[0;34m.\u001b[0m\u001b[0m_raw_read\u001b[0m\u001b[0;34m(\u001b[0m\u001b[0mamt\u001b[0m\u001b[0;34m)\u001b[0m\u001b[0;34m\u001b[0m\u001b[0;34m\u001b[0m\u001b[0m\n\u001b[0m\u001b[1;32m    956\u001b[0m \u001b[0;34m\u001b[0m\u001b[0m\n\u001b[1;32m    957\u001b[0m         \u001b[0mflush_decoder\u001b[0m \u001b[0;34m=\u001b[0m \u001b[0mamt\u001b[0m \u001b[0;32mis\u001b[0m \u001b[0;32mNone\u001b[0m \u001b[0;32mor\u001b[0m \u001b[0;34m(\u001b[0m\u001b[0mamt\u001b[0m \u001b[0;34m!=\u001b[0m \u001b[0;36m0\u001b[0m \u001b[0;32mand\u001b[0m \u001b[0;32mnot\u001b[0m \u001b[0mdata\u001b[0m\u001b[0;34m)\u001b[0m\u001b[0;34m\u001b[0m\u001b[0;34m\u001b[0m\u001b[0m\n",
            "\u001b[0;32m/usr/local/lib/python3.11/dist-packages/urllib3/response.py\u001b[0m in \u001b[0;36m_raw_read\u001b[0;34m(self, amt, read1)\u001b[0m\n\u001b[1;32m    877\u001b[0m \u001b[0;34m\u001b[0m\u001b[0m\n\u001b[1;32m    878\u001b[0m         \u001b[0;32mwith\u001b[0m \u001b[0mself\u001b[0m\u001b[0;34m.\u001b[0m\u001b[0m_error_catcher\u001b[0m\u001b[0;34m(\u001b[0m\u001b[0;34m)\u001b[0m\u001b[0;34m:\u001b[0m\u001b[0;34m\u001b[0m\u001b[0;34m\u001b[0m\u001b[0m\n\u001b[0;32m--> 879\u001b[0;31m             \u001b[0mdata\u001b[0m \u001b[0;34m=\u001b[0m \u001b[0mself\u001b[0m\u001b[0;34m.\u001b[0m\u001b[0m_fp_read\u001b[0m\u001b[0;34m(\u001b[0m\u001b[0mamt\u001b[0m\u001b[0;34m,\u001b[0m \u001b[0mread1\u001b[0m\u001b[0;34m=\u001b[0m\u001b[0mread1\u001b[0m\u001b[0;34m)\u001b[0m \u001b[0;32mif\u001b[0m \u001b[0;32mnot\u001b[0m \u001b[0mfp_closed\u001b[0m \u001b[0;32melse\u001b[0m \u001b[0;34mb\"\"\u001b[0m\u001b[0;34m\u001b[0m\u001b[0;34m\u001b[0m\u001b[0m\n\u001b[0m\u001b[1;32m    880\u001b[0m             \u001b[0;32mif\u001b[0m \u001b[0mamt\u001b[0m \u001b[0;32mis\u001b[0m \u001b[0;32mnot\u001b[0m \u001b[0;32mNone\u001b[0m \u001b[0;32mand\u001b[0m \u001b[0mamt\u001b[0m \u001b[0;34m!=\u001b[0m \u001b[0;36m0\u001b[0m \u001b[0;32mand\u001b[0m \u001b[0;32mnot\u001b[0m \u001b[0mdata\u001b[0m\u001b[0;34m:\u001b[0m\u001b[0;34m\u001b[0m\u001b[0;34m\u001b[0m\u001b[0m\n\u001b[1;32m    881\u001b[0m                 \u001b[0;31m# Platform-specific: Buggy versions of Python.\u001b[0m\u001b[0;34m\u001b[0m\u001b[0;34m\u001b[0m\u001b[0m\n",
            "\u001b[0;32m/usr/local/lib/python3.11/dist-packages/urllib3/response.py\u001b[0m in \u001b[0;36m_fp_read\u001b[0;34m(self, amt, read1)\u001b[0m\n\u001b[1;32m    860\u001b[0m         \u001b[0;32melse\u001b[0m\u001b[0;34m:\u001b[0m\u001b[0;34m\u001b[0m\u001b[0;34m\u001b[0m\u001b[0m\n\u001b[1;32m    861\u001b[0m             \u001b[0;31m# StringIO doesn't like amt=None\u001b[0m\u001b[0;34m\u001b[0m\u001b[0;34m\u001b[0m\u001b[0m\n\u001b[0;32m--> 862\u001b[0;31m             \u001b[0;32mreturn\u001b[0m \u001b[0mself\u001b[0m\u001b[0;34m.\u001b[0m\u001b[0m_fp\u001b[0m\u001b[0;34m.\u001b[0m\u001b[0mread\u001b[0m\u001b[0;34m(\u001b[0m\u001b[0mamt\u001b[0m\u001b[0;34m)\u001b[0m \u001b[0;32mif\u001b[0m \u001b[0mamt\u001b[0m \u001b[0;32mis\u001b[0m \u001b[0;32mnot\u001b[0m \u001b[0;32mNone\u001b[0m \u001b[0;32melse\u001b[0m \u001b[0mself\u001b[0m\u001b[0;34m.\u001b[0m\u001b[0m_fp\u001b[0m\u001b[0;34m.\u001b[0m\u001b[0mread\u001b[0m\u001b[0;34m(\u001b[0m\u001b[0;34m)\u001b[0m\u001b[0;34m\u001b[0m\u001b[0;34m\u001b[0m\u001b[0m\n\u001b[0m\u001b[1;32m    863\u001b[0m \u001b[0;34m\u001b[0m\u001b[0m\n\u001b[1;32m    864\u001b[0m     def _raw_read(\n",
            "\u001b[0;32m/usr/lib/python3.11/http/client.py\u001b[0m in \u001b[0;36mread\u001b[0;34m(self, amt)\u001b[0m\n\u001b[1;32m    471\u001b[0m                 \u001b[0;31m# clip the read to the \"end of response\"\u001b[0m\u001b[0;34m\u001b[0m\u001b[0;34m\u001b[0m\u001b[0m\n\u001b[1;32m    472\u001b[0m                 \u001b[0mamt\u001b[0m \u001b[0;34m=\u001b[0m \u001b[0mself\u001b[0m\u001b[0;34m.\u001b[0m\u001b[0mlength\u001b[0m\u001b[0;34m\u001b[0m\u001b[0;34m\u001b[0m\u001b[0m\n\u001b[0;32m--> 473\u001b[0;31m             \u001b[0ms\u001b[0m \u001b[0;34m=\u001b[0m \u001b[0mself\u001b[0m\u001b[0;34m.\u001b[0m\u001b[0mfp\u001b[0m\u001b[0;34m.\u001b[0m\u001b[0mread\u001b[0m\u001b[0;34m(\u001b[0m\u001b[0mamt\u001b[0m\u001b[0;34m)\u001b[0m\u001b[0;34m\u001b[0m\u001b[0;34m\u001b[0m\u001b[0m\n\u001b[0m\u001b[1;32m    474\u001b[0m             \u001b[0;32mif\u001b[0m \u001b[0;32mnot\u001b[0m \u001b[0ms\u001b[0m \u001b[0;32mand\u001b[0m \u001b[0mamt\u001b[0m\u001b[0;34m:\u001b[0m\u001b[0;34m\u001b[0m\u001b[0;34m\u001b[0m\u001b[0m\n\u001b[1;32m    475\u001b[0m                 \u001b[0;31m# Ideally, we would raise IncompleteRead if the content-length\u001b[0m\u001b[0;34m\u001b[0m\u001b[0;34m\u001b[0m\u001b[0m\n",
            "\u001b[0;32m/usr/lib/python3.11/socket.py\u001b[0m in \u001b[0;36mreadinto\u001b[0;34m(self, b)\u001b[0m\n\u001b[1;32m    716\u001b[0m         \u001b[0;32mwhile\u001b[0m \u001b[0;32mTrue\u001b[0m\u001b[0;34m:\u001b[0m\u001b[0;34m\u001b[0m\u001b[0;34m\u001b[0m\u001b[0m\n\u001b[1;32m    717\u001b[0m             \u001b[0;32mtry\u001b[0m\u001b[0;34m:\u001b[0m\u001b[0;34m\u001b[0m\u001b[0;34m\u001b[0m\u001b[0m\n\u001b[0;32m--> 718\u001b[0;31m                 \u001b[0;32mreturn\u001b[0m \u001b[0mself\u001b[0m\u001b[0;34m.\u001b[0m\u001b[0m_sock\u001b[0m\u001b[0;34m.\u001b[0m\u001b[0mrecv_into\u001b[0m\u001b[0;34m(\u001b[0m\u001b[0mb\u001b[0m\u001b[0;34m)\u001b[0m\u001b[0;34m\u001b[0m\u001b[0;34m\u001b[0m\u001b[0m\n\u001b[0m\u001b[1;32m    719\u001b[0m             \u001b[0;32mexcept\u001b[0m \u001b[0mtimeout\u001b[0m\u001b[0;34m:\u001b[0m\u001b[0;34m\u001b[0m\u001b[0;34m\u001b[0m\u001b[0m\n\u001b[1;32m    720\u001b[0m                 \u001b[0mself\u001b[0m\u001b[0;34m.\u001b[0m\u001b[0m_timeout_occurred\u001b[0m \u001b[0;34m=\u001b[0m \u001b[0;32mTrue\u001b[0m\u001b[0;34m\u001b[0m\u001b[0;34m\u001b[0m\u001b[0m\n",
            "\u001b[0;32m/usr/lib/python3.11/ssl.py\u001b[0m in \u001b[0;36mrecv_into\u001b[0;34m(self, buffer, nbytes, flags)\u001b[0m\n\u001b[1;32m   1312\u001b[0m                   \u001b[0;34m\"non-zero flags not allowed in calls to recv_into() on %s\"\u001b[0m \u001b[0;34m%\u001b[0m\u001b[0;34m\u001b[0m\u001b[0;34m\u001b[0m\u001b[0m\n\u001b[1;32m   1313\u001b[0m                   self.__class__)\n\u001b[0;32m-> 1314\u001b[0;31m             \u001b[0;32mreturn\u001b[0m \u001b[0mself\u001b[0m\u001b[0;34m.\u001b[0m\u001b[0mread\u001b[0m\u001b[0;34m(\u001b[0m\u001b[0mnbytes\u001b[0m\u001b[0;34m,\u001b[0m \u001b[0mbuffer\u001b[0m\u001b[0;34m)\u001b[0m\u001b[0;34m\u001b[0m\u001b[0;34m\u001b[0m\u001b[0m\n\u001b[0m\u001b[1;32m   1315\u001b[0m         \u001b[0;32melse\u001b[0m\u001b[0;34m:\u001b[0m\u001b[0;34m\u001b[0m\u001b[0;34m\u001b[0m\u001b[0m\n\u001b[1;32m   1316\u001b[0m             \u001b[0;32mreturn\u001b[0m \u001b[0msuper\u001b[0m\u001b[0;34m(\u001b[0m\u001b[0;34m)\u001b[0m\u001b[0;34m.\u001b[0m\u001b[0mrecv_into\u001b[0m\u001b[0;34m(\u001b[0m\u001b[0mbuffer\u001b[0m\u001b[0;34m,\u001b[0m \u001b[0mnbytes\u001b[0m\u001b[0;34m,\u001b[0m \u001b[0mflags\u001b[0m\u001b[0;34m)\u001b[0m\u001b[0;34m\u001b[0m\u001b[0;34m\u001b[0m\u001b[0m\n",
            "\u001b[0;32m/usr/lib/python3.11/ssl.py\u001b[0m in \u001b[0;36mread\u001b[0;34m(self, len, buffer)\u001b[0m\n\u001b[1;32m   1164\u001b[0m         \u001b[0;32mtry\u001b[0m\u001b[0;34m:\u001b[0m\u001b[0;34m\u001b[0m\u001b[0;34m\u001b[0m\u001b[0m\n\u001b[1;32m   1165\u001b[0m             \u001b[0;32mif\u001b[0m \u001b[0mbuffer\u001b[0m \u001b[0;32mis\u001b[0m \u001b[0;32mnot\u001b[0m \u001b[0;32mNone\u001b[0m\u001b[0;34m:\u001b[0m\u001b[0;34m\u001b[0m\u001b[0;34m\u001b[0m\u001b[0m\n\u001b[0;32m-> 1166\u001b[0;31m                 \u001b[0;32mreturn\u001b[0m \u001b[0mself\u001b[0m\u001b[0;34m.\u001b[0m\u001b[0m_sslobj\u001b[0m\u001b[0;34m.\u001b[0m\u001b[0mread\u001b[0m\u001b[0;34m(\u001b[0m\u001b[0mlen\u001b[0m\u001b[0;34m,\u001b[0m \u001b[0mbuffer\u001b[0m\u001b[0;34m)\u001b[0m\u001b[0;34m\u001b[0m\u001b[0;34m\u001b[0m\u001b[0m\n\u001b[0m\u001b[1;32m   1167\u001b[0m             \u001b[0;32melse\u001b[0m\u001b[0;34m:\u001b[0m\u001b[0;34m\u001b[0m\u001b[0;34m\u001b[0m\u001b[0m\n\u001b[1;32m   1168\u001b[0m                 \u001b[0;32mreturn\u001b[0m \u001b[0mself\u001b[0m\u001b[0;34m.\u001b[0m\u001b[0m_sslobj\u001b[0m\u001b[0;34m.\u001b[0m\u001b[0mread\u001b[0m\u001b[0;34m(\u001b[0m\u001b[0mlen\u001b[0m\u001b[0;34m)\u001b[0m\u001b[0;34m\u001b[0m\u001b[0;34m\u001b[0m\u001b[0m\n",
            "\u001b[0;31mKeyboardInterrupt\u001b[0m: "
          ]
        }
      ]
    },
    {
      "cell_type": "markdown",
      "source": [
        "## 1.2 alamülesanne\n",
        "\n",
        "Konverteeri allalaetud kaks PDF faili ja üks HTML fail MarkDown formaati ehk tavaliseks tekstiks. Pilte ei ole vaja konverteerida. Prindi välja igast MarkDown failist esimesed 2000 tähemärki."
      ],
      "metadata": {
        "id": "Rc0khw2y7HV9"
      }
    },
    {
      "cell_type": "code",
      "source": [
        "!pip install extractous markdownify\n",
        "import os\n",
        "from pathlib import Path\n",
        "from docling.document_converter import DocumentConverter  # Correct import\n",
        "from extractous import Extractor\n",
        "from markdownify import markdownify as md\n",
        "\n",
        "# Setup directories\n",
        "input_dir = 'downloads'\n",
        "output_dir = 'markdown_output'\n",
        "os.makedirs(output_dir, exist_ok=True)\n",
        "\n",
        "# Initialize extractor\n",
        "extractor = Extractor()\n",
        "\n",
        "def clean_filename(filename):\n",
        "    \"\"\"Clean filename for safe saving\"\"\"\n",
        "    return \"\".join(c if c.isalnum() or c in ('-', '_') else '_' for c in filename)\n",
        "\n",
        "def process_file(filepath):\n",
        "    \"\"\"Process a single file with both methods\"\"\"\n",
        "    filename = Path(filepath).name\n",
        "    print(f\"\\nProcessing: {filename}\")\n",
        "\n",
        "    results = {}\n",
        "\n",
        "    # Method 1: Docling conversion\n",
        "    try:\n",
        "        # Correct docling usage with DocumentConverter\n",
        "        converter = DocumentConverter()\n",
        "        result = converter.convert(filepath)\n",
        "        docling_md = result.document.export_to_markdown()\n",
        "        results['docling'] = docling_md[:2000]  # Store first 2000 chars\n",
        "\n",
        "        # Save full output\n",
        "        output_path = os.path.join(output_dir, f\"docling_{clean_filename(filename)}.md\")\n",
        "        with open(output_path, 'w', encoding='utf-8') as f:\n",
        "            f.write(docling_md)\n",
        "    except Exception as e:\n",
        "        print(f\"Docling failed: {str(e)}\")\n",
        "        results['docling'] = None\n",
        "\n",
        "    # Method 2: Extractous + Markdownify\n",
        "    try:\n",
        "        if filepath.endswith('.pdf'):\n",
        "            text, _ = extractor.extract_file_to_string(filepath)\n",
        "            extracted_md = md(text) if text else \"\"\n",
        "        elif filepath.endswith(('.html', '.htm')):\n",
        "            with open(filepath, 'r', encoding='utf-8') as f:\n",
        "                html = f.read()\n",
        "            extracted_md = md(html)\n",
        "        else:\n",
        "            print(f\"Skipping unsupported file type: {filename}\")\n",
        "            return None\n",
        "\n",
        "        results['extractous'] = extracted_md[:2000]  # Store first 2000 chars\n",
        "        # Save full output\n",
        "        output_path = os.path.join(output_dir, f\"extractous_{clean_filename(filename)}.md\")\n",
        "        with open(output_path, 'w', encoding='utf-8') as f:\n",
        "            f.write(extracted_md)\n",
        "    except Exception as e:\n",
        "        print(f\"Extractous+Markdownify failed: {str(e)}\")\n",
        "        results['extractous'] = None\n",
        "\n",
        "    return results\n",
        "\n",
        "# Main processing loop\n",
        "for filename in os.listdir(input_dir):\n",
        "    filepath = os.path.join(input_dir, filename)\n",
        "    if os.path.isfile(filepath):\n",
        "        results = process_file(filepath)\n",
        "\n",
        "        if results:\n",
        "            print(\"\\nComparison for:\", filename)\n",
        "            print(\"=\"*50)\n",
        "            print(\"Docling output (first 2000 chars):\")\n",
        "            print(results.get('docling', 'No output'))\n",
        "            print(\"\\nExtractous+Markdownify output (first 2000 chars):\")\n",
        "            print(results.get('extractous', 'No output'))\n",
        "            print(\"=\"*50 + \"\\n\")\n",
        "\n",
        "print(f\"\\nAll files processed. Outputs saved to '{output_dir}' directory.\")"
      ],
      "metadata": {
        "id": "SzDZRB9fCAE1",
        "outputId": "4d49caa2-4373-4600-bf77-c49adbb25484",
        "colab": {
          "base_uri": "https://localhost:8080/"
        }
      },
      "execution_count": 7,
      "outputs": [
        {
          "output_type": "stream",
          "name": "stdout",
          "text": [
            "Requirement already satisfied: extractous in /usr/local/lib/python3.11/dist-packages (0.3.0)\n",
            "Requirement already satisfied: markdownify in /usr/local/lib/python3.11/dist-packages (1.1.0)\n",
            "Requirement already satisfied: beautifulsoup4<5,>=4.9 in /usr/local/lib/python3.11/dist-packages (from markdownify) (4.13.4)\n",
            "Requirement already satisfied: six<2,>=1.15 in /usr/local/lib/python3.11/dist-packages (from markdownify) (1.17.0)\n",
            "Requirement already satisfied: soupsieve>1.2 in /usr/local/lib/python3.11/dist-packages (from beautifulsoup4<5,>=4.9->markdownify) (2.7)\n",
            "Requirement already satisfied: typing-extensions>=4.0.0 in /usr/local/lib/python3.11/dist-packages (from beautifulsoup4<5,>=4.9->markdownify) (4.13.2)\n",
            "\n",
            "Processing: downloaded_file.html\n",
            "\n",
            "Comparison for: downloaded_file.html\n",
            "==================================================\n",
            "Docling output (first 2000 chars):\n",
            "# Rohde &amp; Schwarz: Eestis on mobiilse interneti kiirus hüppeliselt kasvanud\n",
            "\n",
            "4 min lugemine\n",
            "\n",
            "<!-- image -->\n",
            "\n",
            "09.12.2024 08:01\n",
            "\n",
            "Rahvusvaheline seirefirma Rohde &amp; Schwarz viis sügisel Eestis läbi ulatuslikud mõõtmised, mille käigus analüüsiti Telia, Elisa ja Tele2 mobiilivõrkude suutlikkust. Selgub, et tänu 5G võrkude arengule on mobiilse interneti keskmine kiirus viimase aastaga Eestis oluliselt kasvanud.\n",
            "\n",
            "Saamaks kogu riigi kohta võimalikult täpset ja ülevaatlikku pilti, sõitis Rohde &amp; Schwarz mobiilivõrkude testimise nimel terve Eesti risti-põiki läbi. Selle käigus läbiti kokku ca 6500 kilomeetrit ning teostati mõõtmisi nii olulisematel maanteedel kui ka kõigis suuremates linnades eesotsas Tallinna, Tartu, Pärnu, Narva ja Kohtla-Järvega.\n",
            "\n",
            "Lisaks sellele mõõdeti kõigi kolme operaatori võrkude jõudlust terves reas väiksemates linnades ja asukohtades, sh Viljandi, Maardu, Rakvere, Kuressaare, Sillamäe, Valga, Võru, Keila, Haapsalu, Paide, Saue, Elva, Põlva, Rapla, Jõgeva, Türi, Põltsamaa, Sindi, Kärdla, Märjamaa, Narva-Jõesuu, Räpina, Kiili ja Mustvee.\n",
            "\n",
            "<!-- image -->\n",
            "\n",
            "Eestis teostatud mõõtmiste ülevaade. Allikas: Rohde &amp; Schwarz\n",
            "\n",
            "<!-- image -->\n",
            "\n",
            "Eesti mobiilioperaatorite võrgujõudluse skoor. Allikas: Rohde &amp; Schwarz\n",
            "\n",
            "<!-- image -->\n",
            "\n",
            "Eesti mobiilioperaatorite keskmised allalaadimiskiirused suurtes linnades, väikestes linnades ja maanteedel. Allikas: Rohde &amp; Schwarz\n",
            "\n",
            "<!-- image -->\n",
            "\n",
            "Eesti mobiilioperaatorite tulemused videokõnede ja e-mängude kvaliteeti arvestuses. Allikas: Rohde &amp; Schwarz\n",
            "\n",
            "Kogutud andmete põhjal selgitati välja, milline on kohalike operaatorite võimekus nii kõneside, mobiilse andmeside kiiruse kui ka e-mängude ja videokõnede arvestuses.\n",
            "\n",
            "Rohde &amp; Schwarz poolt avaldatud kokkuvõttest selgub, et erinevaid võrguparameetreid arvesse võttes saavutas Eesti telkodest kõrgeima võrgujõudluse skoori (Network Perfomance Score) Telia, seda nii kõne- kui andmeside arvestuses. Järgnesid Elisa ja Tele2.\n",
            "\n",
            "Võrgujõudluse skoor kokku\n",
            "\n",
            "(või\n",
            "\n",
            "Extractous+Markdownify output (first 2000 chars):\n",
            "Rohde & Schwarz: Eestis on mobiilse interneti kiirus hüppeliselt kasvanud - Digitark\n",
            "\n",
            "\n",
            "\n",
            "\n",
            "\n",
            "\n",
            "\n",
            "\n",
            "\n",
            "\n",
            "\n",
            "\n",
            "\n",
            "\n",
            "\n",
            "\n",
            "\n",
            "\n",
            "\n",
            "\n",
            "\n",
            "\n",
            "\n",
            "\n",
            "\n",
            "\n",
            "\n",
            "\n",
            "\n",
            " \n",
            "\n",
            "\n",
            "\n",
            "\n",
            "[![Digitark](https://digitark.telia.ee/wp-content/themes/digitark/inc/img/digitark-telia-logo.svg)](https://digitark.telia.ee)\n",
            "\n",
            "* [Mis on Digitark?](https://digitark.telia.ee/leht/mis-on-digitark/)\n",
            "* [Digitark Youtube'is](http://www.youtube.com/channel/UC7OQJ2RzG-2UzR0t-F_tEVQ)\n",
            "* [Telia.ee](https://www.telia.ee/era)\n",
            "\n",
            "\n",
            "* [est](https://digitark.telia.ee/era/rohde-schwarz-eestis-on-mobiilse-interneti-kiirus-huppeliselt-kasvanud/)\n",
            "* [rus](https://digitark.telia.ee/ru/era/rohde-schwarz-eestis-on-mobiilse-interneti-kiirus-huppeliselt-kasvanud/)\n",
            "\n",
            "* [Uudised](https://digitark.telia.ee/)\n",
            "* [Turvalisus](https://digitark.telia.ee/teemad/turvalisus/)\n",
            "* [Ettevõtlus](https://digitark.telia.ee/teemad/ettevotlus/)\n",
            "* [TV ja meelelahutus](https://digitark.telia.ee/teemad/meelelahutus-vaba-aeg/)\n",
            "* [Tark töö](https://digitark.telia.ee/teemad/tark-too/)\n",
            "* [IT-blogi](https://digitark.telia.ee/ari-it-blog/)\n",
            "\n",
            "* [Mis on Digitark?](https://digitark.telia.ee/leht/mis-on-digitark/)\n",
            "* [Digitark Youtube'is](http://www.youtube.com/channel/UC7OQJ2RzG-2UzR0t-F_tEVQ)\n",
            "* [Telia.ee](https://www.telia.ee/era)\n",
            "\n",
            "* [est](https://digitark.telia.ee/era/rohde-schwarz-eestis-on-mobiilse-interneti-kiirus-huppeliselt-kasvanud/)\n",
            "* [rus](https://digitark.telia.ee/ru/era/rohde-schwarz-eestis-on-mobiilse-interneti-kiirus-huppeliselt-kasvanud/)\n",
            "\n",
            "![](data:image/gif;base64,R0lGODlhAQABAAAAACH5BAEKAAEALAAAAAABAAEAAAICTAEAOw==)\n",
            "\n",
            "Rohde & Schwarz: Eestis on mobiilse interneti kiirus hüppeliselt kasvanud\n",
            "=========================================================================\n",
            "\n",
            "[#5G](https://digitark.telia.ee/tag/5g)\n",
            "[#mobiilse interneti kiirus](https://digitark.telia.ee/tag/mobiilse-interneti-kiirus)\n",
            "[#Rohde & Schwarz](https://digitark.telia.ee/tag/rohde-schwarz)\n",
            "[#Telia](https://digitark.telia.ee/tag/telia)\n",
            "\n",
            "4 min lugemine\n",
            "\n",
            "---\n",
            "\n",
            "[![](data:image/gif;base64,R0lGODlhAQABAAAAACH5BAEKAAEALAAAAAABAAEAAAICTAEAO\n",
            "==================================================\n",
            "\n",
            "\n",
            "Processing: TELIA_raport_EST_2024.pdf\n"
          ]
        },
        {
          "output_type": "stream",
          "name": "stderr",
          "text": [
            "WARNING:easyocr.easyocr:Downloading detection model, please wait. This may take several minutes depending upon your network connection.\n",
            "WARNING:easyocr.easyocr:Downloading recognition model, please wait. This may take several minutes depending upon your network connection.\n"
          ]
        },
        {
          "output_type": "stream",
          "name": "stdout",
          "text": [
            "\n",
            "Comparison for: TELIA_raport_EST_2024.pdf\n",
            "==================================================\n",
            "Docling output (first 2000 chars):\n",
            "<!-- image -->\n",
            "\n",
            "Telia ühiskondliku mõju raport 2024\n",
            "\n",
            "Telia\n",
            "\n",
            "Panustame ühiskonna arengusse, et Eesti oleks parem paik nii elamiseks kui töötamiseks.\n",
            "\n",
            "Keskkonnategurid\n",
            "\n",
            "Sotsiaalne mõju\n",
            "\n",
            "Juhtimisalased tegurid\n",
            "\n",
            "2\n",
            "\n",
            "<!-- image -->\n",
            "\n",
            "## Sisukord\n",
            "\n",
            "## Keskkond\n",
            "\n",
            "## Heitme- ja jäätmevabadus\n",
            "\n",
            "Emissioonid, energia ja liikuvus\n",
            "\n",
            "Energia\n",
            "\n",
            "Transport\n",
            "\n",
            "Jäätmed ja ringmajandus\n",
            "\n",
            "Jäätmete osakaal, ümbertöötamine ja taaskasutamine\n",
            "\n",
            "Digikelts\n",
            "\n",
            "Keskkonnateemad sise- ja väliskommunikatsioonis\n",
            "\n",
            "Telia töötajate keskkonnateadlikkus\n",
            "\n",
            "## Sotsiaalne mõju\n",
            "\n",
            "## Digitaalne kaasatus ning privaatsus ja küberturvalisus\n",
            "\n",
            "Koostöö riigi ja võrgustikega, teadus- ja arendustegevus\n",
            "\n",
            "Juhendid, koolitused ja hariduslikud programmid\n",
            "\n",
            "Telia töötajate privaatsuse ja küberturvalisuse alase teadlikkuse arendamine\n",
            "\n",
            "Hariduslikud programmid\n",
            "\n",
            "Ühiskonnauuringud\n",
            "\n",
            "Sideteenuste kättesaadavus\n",
            "\n",
            "## Telia tööandjana\n",
            "\n",
            "Võrdsed võimalused ja igaühega arvestamine\n",
            "\n",
            "Äriklientide keskkonnaalased küsimused\n",
            "\n",
            "Töötingimused, töökorraldus töötajate heaolu\n",
            "\n",
            "Aruanne on üles ehitatud lähtudes ESG raamistikust ning seostatud meie kolme fookusvaldkonnaga: keskkonnahoid, digitaalne kaasatus, privaatsus ja küberturvalisus.\n",
            "\n",
            "## Juhtimisraamistik\n",
            "\n",
            "## Jätkusuutlikkuse kolmikmõõtme (ESG) strateegiline juhtimine\n",
            "\n",
            "Juhtimisraamistik ja ühised väärtused\n",
            "\n",
            "Mõju ja arengu strateegiline juhtimine\n",
            "\n",
            "Vastutustundlikkus maksustamisel\n",
            "\n",
            "Poliitiline kaasatus\n",
            "\n",
            "Tunnustused ja sertifikaadid\n",
            "\n",
            "Järelsõna\n",
            "\n",
            "<!-- image -->\n",
            "\n",
            "Keskkond\n",
            "\n",
            "Keskkonnahoid on üks kolmest Telia fookusvaldkonnast.\n",
            "\n",
            "<!-- image -->\n",
            "\n",
            "<!-- image -->\n",
            "\n",
            "## Heitme- ja jäätmevabadus\n",
            "\n",
            "## Emissioonid, energia ja liikuvus\n",
            "\n",
            "Meie kasvuhoonegaaside emissioon tuleneb Telia kontrolli  all olevatest allikatest või tegevusest ning lisaks väärtusahelas olevatest tegevustest, mida kontrollivad teised ettevõtted (näiteks koostööpartnerid  ja  tarnijad).  Erinevaid  kasvuhoonegaaside emissioone arvestatakse ühikuga CO e. Emissioonid jaotatakse 2 mõjualadesse 1, 2 ja 3.\n",
            "\n",
            "## Telia enda emissioonide all mõistetakse mõjualasid 1\n",
            "\n",
            "Extractous+Markdownify output (first 2000 chars):\n",
            "Telia ühiskondliku mõju\n",
            "raport 2024\n",
            "Telia Eesti AS\n",
            "2Keskkonnategurid Sotsiaalne mõju Juhtimisalased tegurid\n",
            "Panustame ühiskonna\n",
            "arengusse, et Eesti oleks\n",
            "parem paik nii elamiseks\n",
            "kui töötamiseks.\n",
            "Aruanne on üles ehitatud lähtudes ESG raamistikust ning seostatud\n",
            "meie kolme fookusvaldkonnaga: keskkonnahoid, digitaalne kaasatus,\n",
            "privaatsus ja küberturvalisus.\n",
            "Sisukord\n",
            "Keskkond\n",
            "Jäätmed ja ringmajandus\n",
            "Emissioonid, energia ja liikuvus\n",
            "Transport\n",
            "Energia\n",
            "Jäätmete osakaal, ümbertöötamine ja taaskasutamine\n",
            "Digikelts\n",
            "Telia töötajate keskkonnateadlikkus\n",
            "Äriklientide keskkonnaalased küsimused\n",
            "Heitme- ja\n",
            "jäätmevabadus\n",
            "Keskkonnateemad sise- ja\n",
            "väliskommunikatsioonis\n",
            "Juhendid, koolitused ja hariduslikud programmid\n",
            "Koostöö riigi ja võrgustikega, teadus- ja arendustegevus\n",
            "Telia töötajate privaatsuse ja küberturvalisuse alase\n",
            "teadlikkuse arendamine\n",
            "Hariduslikud programmid\n",
            "Ühiskonnauuringud\n",
            "Sideteenuste kättesaadavus\n",
            "Võrdsed võimalused ja igaühega arvestamine\n",
            "Töötingimused, töökorraldus töötajate heaolu\n",
            "Digitaalne kaasatus ning privaatsus ja\n",
            "küberturvalisus\n",
            "Telia tööandjana\n",
            "Sotsiaalne mõju\n",
            "Juhtimisraamistik ja ühised väärtused\n",
            "Mõju ja arengu strateegiline juhtimine\n",
            "Vastutustundlikkus maksustamisel\n",
            "Poliitiline kaasatus\n",
            "Tunnustused ja sertifikaadid\n",
            "Järelsõna\n",
            "Jätkusuutlikkuse kolmikmõõtme\n",
            "(ESG) strateegiline juhtimine\n",
            "Juhtimisraamistik\n",
            "Keskkond Sotsiaalne mõju Juhtimisraamistik 33\n",
            "4Keskkonnategurid Sotsiaalne mõju Juhtimisalased tegurid\n",
            "Keskkonnahoid on üks kolmest Telia\n",
            "fookusvaldkonnast.\n",
            "Keskkond\n",
            "t\n",
            "C\n",
            "O\n",
            "2\n",
            "e\n",
            "0\n",
            "500\n",
            "1000\n",
            "1500\n",
            "2000\n",
            "2500\n",
            "3000\n",
            "2018\n",
            "2 906\n",
            "474\n",
            "32\n",
            "2020\n",
            "1 362\n",
            "26\n",
            "104\n",
            "2021\n",
            "1 737\n",
            "557\n",
            "56 45\n",
            "2022\n",
            "1 032\n",
            "417\n",
            "537\n",
            "2023\n",
            "392\n",
            "99\n",
            "224\n",
            "9\n",
            "2019\n",
            "2 755\n",
            "9\n",
            "613\n",
            "Kaugküte Telia autode kütused Tagavara kütused Külmained\n",
            "Tagasime, et ühe ühiku andmehulga edastamiseks kuluv hulk oleks aasta-aastalt väiksem.\n",
            "48% 23%\n",
            "27% 1%\n",
            "0,32% 0,02%\n",
            "63%2022\n",
            "2023\n",
            "20% 16% 1% 0,25% 0,01%\n",
            "45%2021 41% 13% 1% 0,09% 0,02%\n",
            "Kõik mõjualad kokku tähistavad Telia emissioone kogu\n",
            "väärtusahela ulatuses.\n",
            "Telia enda emissioonide maht oli\n",
            "==================================================\n",
            "\n",
            "\n",
            "Processing: telia_eesti_ariteenused_yldosa.pdf\n",
            "\n",
            "Comparison for: telia_eesti_ariteenused_yldosa.pdf\n",
            "==================================================\n",
            "Docling output (first 2000 chars):\n",
            "## Seisuga 17.04.2025\n",
            "\n",
            "<!-- image -->\n",
            "\n",
            "| IV ptk    | Püsiühenduse teenused ärikliendile                                                                                                                                                                                                                                                                                                                           | km-ta                                                                                                                                                                                                                                                                                                                                                        | km-ga                                                                                                                                                                                                                                                                                                                                                        | ühik                                                                                                                                                                                                                                                                                                                                                         |\n",
            "|-----------|--------------------------------------------------------------------------------------------------------------------------------------------------------------------------------------------------------------------------------------------------------------------------------------------------------------------------------------------------------------|-----------------------------------------------------------------------------------------------------------------------------------------------------------------------------------\n",
            "\n",
            "Extractous+Markdownify output (first 2000 chars):\n",
            "väljavõte Telia Eesti AS lõppkasutajate hinnakirjast\n",
            "Seisuga 17.04.2025\n",
            "IV ptk Püsiühenduse teenused ärikliendile km-ta km-ga ühik\n",
            "1. Internetipaketid km-ta km-ga ühik\n",
            "1.1. Ärikliendi Internet\n",
            "1.1.1. liitumistasu vastavalt kulukalkulatsioonile\n",
            "1.1.2. kuutasu\n",
            "1.1.2.1. kiirus kuni 20 Mbit/s / 10 Mbit/s ⁽¹⁾ 30,00 36,60 €/kuu\n",
            "1.1.2.2. kiirus kuni 50 Mbit/s / 20 Mbit/s ⁽¹⁾ 49,00 59,78 €/kuu\n",
            "1.1.2.3. kiirus kuni 100 Mbit/s / 25 Mbit/s ⁽¹⁾ 65,00 79,30 €/kuu\n",
            "1.1.2.4. kiirus kuni 100 Mbit/s / 50 Mbit/s ⁽¹⁾ 65,00 79,30 €/kuu\n",
            "⁽¹⁾\n",
            "1.2. Turvanet\n",
            "1.2.1. kuutasu\n",
            "1.2.1.1. kiirus kuni 50 Mbit/s / 10 Mbit/s ⁽²⁾ 45,00 54,90 €/kuu\n",
            "1.2.1.2. kiirus kuni 50 Mbit/s / 25 Mbit/s ⁽²⁾ 45,00 54,90 €/kuu\n",
            "1.2.1.3. kiirus kuni 50 Mbit/s / 50 Mbit/s ⁽²⁾ 45,00 54,90 €/kuu\n",
            "1.2.1.4. kiirus kuni 100 Mbit/s / 25 Mbit/s ⁽²⁾ 59,00 71,98 €/kuu\n",
            "1.2.1.5. kiirus kuni 100 Mbit/s / 50 Mbit/s ⁽²⁾ 59,00 71,98 €/kuu\n",
            "1.2.1.6. kiirus kuni 100 Mbit/s / 100 Mbit/s ⁽²⁾ 59,00 71,98 €/kuu\n",
            "1.2.1.7. kiirus kuni 200 Mbit/s / 50 Mbit/s ⁽²⁾ 65,00 79,30 €/kuu\n",
            "1.2.1.8. kiirus kuni 200 Mbit/s / 200 Mbit/s ⁽²⁾ 65,00 79,30 €/kuu\n",
            "1.2.1.9. kiirus kuni 500 Mbit/s / 500 Mbit/s ⁽²⁾ 100,00 122,00 €/kuu\n",
            "1.2.1.10. kiirused üle 500 Mbit/s müüdav erilahendusena\n",
            "⁽²⁾\n",
            "1.3. Turvaline Seadmenet\n",
            "1.3.1. kuutasu ⁽³⁾\n",
            "1.3.1.1. kiirus kuni 20 Mbit/s / 5 Mbit/s ⁽⁴⁾ 29,00 35,38 €/kuu\n",
            "1.3.1.2. kiirus kuni 20 Mbit/s / 10 Mbit/s 29,00 35,38 €/kuu\n",
            "1.3.1.3. kiirus kuni 20 Mbit/s / 20 Mbit/s 29,00 35,38 €/kuu\n",
            "⁽³⁾\n",
            "⁽⁴⁾\n",
            "2. Kõnepaketid km-ta km-ga ühik\n",
            "2.1. Äritelefon\n",
            "2.1.1. liitumistasu vastavalt kulukalkulatsioonile\n",
            "2.1.2. kuutasu\n",
            "2.1.2.1. telefoninumber 4,15 5,06 €/kuu\n",
            "2.1.2.2. broneeritud number 0,07 0,08 €/kuu\n",
            "2.1.2.3. lisateenuste number 0,31 0,38 €/kuu\n",
            "2.1.3. kõneteenused vastavalt Äripaketi kõneteenuste tasudele\n",
            "2.1.4. lisateenused\n",
            "2.1.4.1. Äritelefon EKSTRA pakett, liitumistasu 10,00 12,20 €/kord\n",
            "2.1.4.2. kasutajaseadmete üür ⁽¹⁾\n",
            "2.1.4.2.1. hinnagrupp 1 1,50 1,83 €/kuu\n",
            "2.1.4.2.2. hinnagrupp 2 2,00 2,44 €/kuu\n",
            "2.1.4.2.3. hinnagrupp 3 2,39 2,92 €/kuu\n",
            "2.1.4.\n",
            "==================================================\n",
            "\n",
            "\n",
            "All files processed. Outputs saved to 'markdown_output' directory.\n"
          ]
        }
      ]
    },
    {
      "cell_type": "markdown",
      "source": [
        "<font color='purple'>Põhjendus</font> - Miks valisid just sellise MarkDown formaati konverteerimise meetodi/meetodid? Mida nende andmete kohta arvad, kas neid on lihtne või raske teksti konverteerida?\n",
        "### Meetod\n",
        " Arendusprotsessi vältel kaalusin ning katsetasin mitut erinevat meetodit ning teeki:\n",
        "\n",
        "1.   **[markitdown](https://github.com/microsoft/markitdown)**\n",
        "  *   Arendatud Microsofti poolt\n",
        "  *   Paindlik litsents (MIT)\n",
        "  *   Aeglane\n",
        "  *   Ebatäpne\n",
        "\n",
        "2.   **[marker](https://github.com/VikParuchuri/marker)**\n",
        "  *   Kiire\n",
        "  *   Lokaalne\n",
        "  *   [Piirav litsents suurettevõtete jaoks](https://github.com/VikParuchuri/marker?tab=readme-ov-file#commercial-usage) (cc-by-nc-sa-4.0)\n",
        "\n",
        "3.  **[LlamaParse](https://www.llamaindex.ai/llamaparse)**\n",
        "  *   Paindlik litsents\n",
        "  *   Kasutab LlamaParse API'd, mis piirab kiirust ning kasutusi\n",
        "\n",
        "Lõpuks jäin kahe variandi vahele:\n",
        "\n",
        "4. **[Extractous](https://https://github.com/yobix-ai/extractous) + [Markdownify](https://pypi.org/project/markdownify/)**\n",
        "  *  25x kiirem kui unstructured.io, mida algselt plaanisin katsetada\n",
        "  *  Lokaalne\n",
        "  *  Pole piisavalt täpne keeruliselt struktureeritud PDF failide töötlemisel\n",
        "  *  Paindlikud litsentsid (Apache license 2.0 + MIT)\n",
        "\n",
        "5. **[Docling](https://github.com/docling-project/docling)**\n",
        "  *  Laeb mudeleid HuggingFace'ist ning jooksutab neid lokaalselt\n",
        "  *  Palju täpsem kui Extractous\n",
        "  *  Aeglasem kui Extractous, aga kiirem kui LlamaParse\n",
        "  *  Toetab teksti tükeldamist, mis vähendab kasutatud teeke\n",
        "  *  Arendatud IBM'i poolt\n",
        "  *  Paindlik litsents (MIT)\n",
        "\n",
        "  Lõpptulemuses otsustasin kasutada Docling'i, sest selles olukorras täpsus on tähtsam kui kiirus.\n",
        "\n",
        "  ### Raskus\n",
        "  #### PDF\n",
        "  PDF failitüübil puudub täpne struktuur, mille tõttu konverteerimisel struktureeritud formaati võivad tekkida vead sõltuvalt PDF faili kujundusest ja keerukusest. Näiteks kui ühel lehel asuvad kõrvuti tekstiread, mida loetakse ülevalt alla. Isegi kõige täpsemate meetoditega võivad tekkida ebatäpsused.\n",
        "  #### HTML\n",
        "  HTML on struktureeritud, mille tõttu teisendamine on palju kiirem võrreldes  ning täpsem võrreldes PDF'iga"
      ],
      "metadata": {
        "id": "svxQgotXfETQ"
      }
    },
    {
      "cell_type": "markdown",
      "source": [
        "## 1.3 alamülesanne\n",
        "\n",
        "Tükelda tekstid juppideks (chunking). Vali ise jupi suurus ja jupitamise strateegia. Prindi igast allikast (algselt 2 PDF-i ja 1 HTML) vähemalt 2 loodud tekstijuppi."
      ],
      "metadata": {
        "id": "OILYuQ6ZafYi"
      }
    },
    {
      "cell_type": "code",
      "source": [
        "# to-do"
      ],
      "metadata": {
        "id": "MFllUJSBzQli"
      },
      "execution_count": null,
      "outputs": []
    },
    {
      "cell_type": "markdown",
      "source": [
        "<font color='purple'>Põhjendus</font> - Palun kirjelda, miks valisid sellise jupitamise strateegia:\n",
        "\n",
        "[KIRJALDA SIIN]"
      ],
      "metadata": {
        "id": "omZHR65k3jru"
      }
    },
    {
      "cell_type": "markdown",
      "source": [
        "## 1.4 alamülesanne\n",
        "\n",
        "Vektoriseeri jupid vabalt kättesaadava enda valitud teksti vektoriseerimise mudeliga (embedding model), nt HuggingFace'ist. Eelista väiksemat mudelit. Prindi välja kaks loodud vektorit."
      ],
      "metadata": {
        "id": "B5328FtN3g1V"
      }
    },
    {
      "cell_type": "code",
      "source": [
        "# to-do"
      ],
      "metadata": {
        "id": "2-J4BoY53_SL"
      },
      "execution_count": null,
      "outputs": []
    },
    {
      "cell_type": "markdown",
      "source": [
        "<font color='purple'>Põhjendus</font> - Palun kirjelda, miks valisid sellise vektoriseerimise mudeli.\n",
        "\n",
        "[KIRJELDA SIIN]"
      ],
      "metadata": {
        "id": "Cq2nuCQ94R55"
      }
    },
    {
      "cell_type": "markdown",
      "source": [
        "## 1.5 alamülesanne\n",
        "\n",
        "Leia vektorite sarnasuselt/kauguselt lähimad tekstijupid nendele fraasidele:\n",
        "\n",
        "\n",
        "    \"Mis on allalaadimiskiirus maanteedel?\",\n",
        "    \"Mis on vana uueks?\",\n",
        "    \"Kes on Andre Visse?\"\n",
        "\n",
        "\n",
        "Iga fraasi puhul prindi välja top 3 sarnaseimat tekstijuppi.\n",
        "\n"
      ],
      "metadata": {
        "id": "6sRpaby14cMH"
      }
    },
    {
      "cell_type": "code",
      "source": [
        "queries = [\n",
        "    \"Milline on allalaadimiskiirus maanteedel?\",\n",
        "    \"Mis on vana uueks?\",\n",
        "    \"Kes on Andre Visse?\"\n",
        "]\n",
        "\n",
        "# to-do"
      ],
      "metadata": {
        "id": "hsobbrKE4koO"
      },
      "execution_count": null,
      "outputs": []
    },
    {
      "cell_type": "markdown",
      "source": [
        "## 1.6 alamülesanne\n",
        "\n",
        "Kombineeri nüüd vektorite sarnasuse/kauguse otsing terminipõhise (keyword-based) otsinguga ehk tee hübriidotsing. Prindi välja iga fraasi kohta top 3 sarnaseimat tekstijuppi. Kasuta samu fraase nagu eelmises alamülesandes.\n",
        "\n",
        "Vihje: mõtle ka stoppsõnade peale"
      ],
      "metadata": {
        "id": "-DNhMevz8Dda"
      }
    },
    {
      "cell_type": "code",
      "source": [
        "# to-do"
      ],
      "metadata": {
        "id": "svCxdQfe78IP"
      },
      "execution_count": null,
      "outputs": []
    },
    {
      "cell_type": "markdown",
      "source": [
        "<font color='purple'>Põhjendus</font> - Kirjelda, kuidas oled tulemusega rahul. Kas hübriidotsing oli ainult vektorite võrdlemise meetodist parem või mitte? Miks? Kuidas saaks tulemust veelgi parandada?\n",
        "\n",
        "[KIRJELDA SIIN]"
      ],
      "metadata": {
        "id": "O1DoWBhs9ob0"
      }
    },
    {
      "cell_type": "markdown",
      "source": [
        "## 1.7. alamülesanne\n",
        "\n",
        "Vali HuggingFace'ist üks vabalt kättesaadav väike multilingual text-to-text mudel. Genereeri mudeliga vastus nendele sisendküsimustele:\n",
        "\n",
        "    \"Mis on allalaadimiskiirus maanteedel?\",\n",
        "    \"Mis on vana uueks?\",\n",
        "    \"Kes on Andre Visse?\"\n",
        "\n",
        "Prindi vastused välja.\n",
        "\n",
        "Eelista väikest mudelit, mida saaks kasutada Colab-iga. Kui vaja, kasuta Colab-i tasuta GPU-d (vaheta käitusaja tüüpi). Alternatiivis on ka [Kaggle](https://www.kaggle.com/)'is nädalas 30 tundi GPU-aega tasuta.\n",
        "\n",
        "Mudeli mälu vajaduse vähendamiseks võid kasutada kvantiseerimist.\n",
        "\n",
        "Genereeri vastused kasutades ainult mudelit, ära kasuta mõnda rakendust, API-t ega lisatööriistu."
      ],
      "metadata": {
        "id": "L7hOuKep99QT"
      }
    },
    {
      "cell_type": "code",
      "source": [
        "# to-do"
      ],
      "metadata": {
        "id": "yOwUNck_nfCm"
      },
      "execution_count": null,
      "outputs": []
    },
    {
      "cell_type": "markdown",
      "source": [
        "<font color='purple'>Põhjendus</font> - Kas mudeli vastused tunduvad head? Põhjenda. Kui ei ole head, siis miks? Mida saaks teha, et vastused oleksid paremad? Kui võrdlesid mitut mudelid, võid siin oma avastusi kirjeldada.\n",
        "\n",
        "[KIRJELDA SIIN]"
      ],
      "metadata": {
        "id": "ZeGDbs_017N1"
      }
    },
    {
      "cell_type": "markdown",
      "source": [
        "## 1.8 alamülesanne\n",
        "\n",
        "Küsi samad küsimused API kaudu mõnelt suuremalt mudelilt. Kasuta Google Gemini API-t, mille kaudu saab iga päev teatud mahu tasuta päringuid teha. Näiteks Gemini 2.0 Flash päringuid saab teha tasuta päevas 1500. Prindi küsimused ja API-lt saadud vastused välja.\n",
        "\n",
        "API-i key saab genereerida siin: https://aistudio.google.com/apikey\n",
        "\n",
        "Mudeli rate limit info siin: https://ai.google.dev/gemini-api/docs/rate-limits\n"
      ],
      "metadata": {
        "id": "ySy4uifgb9hS"
      }
    },
    {
      "cell_type": "code",
      "source": [
        "from google.colab import userdata\n",
        "gemini_api_key = userdata.get('gemini_api_key') # palun vaata, et sa oma API key'd meile ei saada"
      ],
      "metadata": {
        "id": "b5iESsBCbrpi"
      },
      "execution_count": null,
      "outputs": []
    },
    {
      "cell_type": "code",
      "source": [
        "# to-so"
      ],
      "metadata": {
        "id": "dYicpMejdPG0"
      },
      "execution_count": null,
      "outputs": []
    },
    {
      "cell_type": "markdown",
      "source": [
        "## 1.9 alamülesanne\n",
        "\n",
        "Muuda nüüd loogikat nii, et enne suurele keelemudelile (LLM-ile) päringu tegemist kasutad hübriidotsingut, et leida küsimusele hübriidotsinguga top 3 sarnaseimat tekstijuppi. Lisa LLM-i päringusse kontekstina need top 3 relevantset tekstijuppi. Prindi küsimused ja LLM-i vastused. Kasuta jätkuvalt Gemini API-t."
      ],
      "metadata": {
        "id": "zE4sgCAg8r4D"
      }
    },
    {
      "cell_type": "code",
      "source": [
        "# to-do"
      ],
      "metadata": {
        "id": "vGiVZ3dA82ON"
      },
      "execution_count": null,
      "outputs": []
    },
    {
      "cell_type": "markdown",
      "source": [
        "<font color='purple'>Põhjendus</font> - Kui andsid LLM-ile sisendina kaasa ka konteksti, mille põhjal vastata, siis kas vastus oli parem? Miks? Kas kõik vastused on nüüd õiged või võib olla mõnel ka aegunud info? Kuidas saaks aegunud info probleemi parandada?\n",
        "\n",
        "[KIRJELDA SIIN]"
      ],
      "metadata": {
        "id": "rhCInTstEqUm"
      }
    },
    {
      "cell_type": "markdown",
      "source": [
        "# 2. ülesanne - tööriistu kasutav keelemudel, valikuline ülesanne"
      ],
      "metadata": {
        "id": "zFNviDY1FdKr"
      }
    },
    {
      "cell_type": "markdown",
      "source": [
        "See on valikuline ülesanne. Kirjuta kood, mis võimaldab keelemudelil vastamisel kasutada mõnda tööriista (nn tool calling / function calling). Näiteks keelemudel teeb ise API päringu(id), et saada vastamiseks lisainfot. Tööriista(d), mida keelemudel ülesande lahendamiseks kasutab, võid valida ise. Samuti võid valida ise ülesande või küsimuse, mida keelemudel lahendama peab. Võid kasutada ka mitut keelemudeli päringut järjest või luua nn multi-agent süsteemi."
      ],
      "metadata": {
        "id": "RgehTsmnFffL"
      }
    },
    {
      "cell_type": "code",
      "source": [
        "# to-do"
      ],
      "metadata": {
        "id": "2Bj_ugj6xsnI"
      },
      "execution_count": null,
      "outputs": []
    },
    {
      "cell_type": "markdown",
      "source": [
        "<font color='purple'>Põhjendus (kui ülesannet tegid) </font> - Mida sinu tööriista(sid) kasutava keelemudeliga teha saab?\n",
        "\n",
        "[KIRJELDA SIIN]"
      ],
      "metadata": {
        "id": "-_Zu6YWLlT-m"
      }
    },
    {
      "cell_type": "markdown",
      "source": [
        "# Tagasiside"
      ],
      "metadata": {
        "id": "z3omFGLdWY4b"
      }
    },
    {
      "cell_type": "markdown",
      "source": [
        "<font color='purple'>Tagasiside</font> - Kirjuta vabas vormis, mis oli sinu jaoks lihtne ning mis keerulisem. Lisaks, mis osa oli kõige põnevam ning mida õppisid.\n",
        "\n",
        "[KIRJELDA SIIN]"
      ],
      "metadata": {
        "id": "bb5ZvdBzXNk8"
      }
    }
  ]
}