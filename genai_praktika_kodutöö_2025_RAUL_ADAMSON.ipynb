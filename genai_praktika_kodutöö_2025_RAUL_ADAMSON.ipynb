{
  "nbformat": 4,
  "nbformat_minor": 0,
  "metadata": {
    "colab": {
      "provenance": [],
      "include_colab_link": true
    },
    "kernelspec": {
      "name": "python3",
      "display_name": "Python 3"
    },
    "language_info": {
      "name": "python"
    }
  },
  "cells": [
    {
      "cell_type": "markdown",
      "metadata": {
        "id": "view-in-github",
        "colab_type": "text"
      },
      "source": [
        "<a href=\"https://colab.research.google.com/github/rauladamson/Kodutoo_GenAI/blob/main/genai_praktika_kodut%C3%B6%C3%B6_2025_RAUL_ADAMSON.ipynb\" target=\"_parent\"><img src=\"https://colab.research.google.com/assets/colab-badge.svg\" alt=\"Open In Colab\"/></a>"
      ]
    },
    {
      "cell_type": "markdown",
      "source": [
        "# Kodutöö GenAI praktika kandidaadile\n",
        "Aprill 2025\n",
        "\n",
        "**Kandideerija nimi:** [SINU NIMI]\n",
        "\n",
        "Juhised:\n",
        "* Palun loo sellest failist koopia ning kirjuta faili nimesse oma nimi.\n",
        "* Kodutöös on kaks ülesannet. Esimesel ülesandel on 9 alamülesannet. Teine ülesanne on valikuline ja sellel pole alamülesandeid.\n",
        "* Lahenda ülesanded ühes Jupyter Notebooki failis. Võid teha juurde code cell'e, installida teeke juurde jne.\n",
        "* Lahendamisel kasuta Python programmeerimiskeelt.\n",
        "* Kui kasutad koodijuppe muudest allikatest (nt blogi, dokumentatsioon, StackOverflow), siis viita nendele.\n",
        "* AI assistendi/chatboti abi koodi kirjutamisel on lubatud, kuid kommentaarid ja põhjendused tuleb kirjutada ise. Oluline on, et saaksid lahendusest ka ise aru.\n",
        "* Google Gemini API-t ja teisi API-sid peaks kasutama ainult tasuta mahus. Eelistatud on vabavaralised ja tasuta tööriistad.\n",
        "* Saada lahendatud kodutöö Google Colab faili link või Githubi üles laetud faili link e-mailile kea.kohv@telia.ee. Githubi puhul veendu, et Kea Kohvile (keakohv) on antud repository'le lugemisõigus.\n",
        "* Veendu, et notebook on läbi jooksutatud ning cell output näha. Me ei jooksuta lahendusi ise läbi.\n",
        "* Kodutöö lõpus on tagasiside lahter, palun täida ka see.\n",
        "* Lahendus saada hiljemalt pühapäeval, 27.04.2025 kl 23.59."
      ],
      "metadata": {
        "id": "AZ5xeVjAZdMl"
      }
    },
    {
      "cell_type": "markdown",
      "source": [
        "# 1. ülesanne"
      ],
      "metadata": {
        "id": "SGR90CcCaiYT"
      }
    },
    {
      "cell_type": "markdown",
      "source": [
        "Esimeses ülesandes laeme alla failid ning muudame need tavaliseks tekstiks; kasutame vektorotsingut ning hübriidotsingut, et leida fraasidele kõige relevantsemaid tekstijuppe; genereerime mudeliga vastuseid nii ilma kontekstita kui ka kontekstiga ehk koos relevantse infoga."
      ],
      "metadata": {
        "id": "6WbczaVtTp7H"
      }
    },
    {
      "cell_type": "markdown",
      "source": [
        "## 1.1 alamülesanne\n",
        "\n",
        "Lae alla need 2 PDF faili:\n",
        "\n",
        "https://www.telia.ee/images/documents/TELIA_raport_EST_2024.pdf\n",
        "https://www.telia.ee/images/documents/hinnakirjad/est/telia_eesti_ariteenused_yldosa.pdf\n",
        "\n",
        "Samuti lae alla selle veebilehe sisu HTML formaadis:\n",
        "https://digitark.telia.ee/era/rohde-schwarz-eestis-on-mobiilse-interneti-kiirus-huppeliselt-kasvanud/\n"
      ],
      "metadata": {
        "id": "LOhVKpf_lgwE"
      }
    },
    {
      "cell_type": "code",
      "source": [
        "import requests\n",
        "\n",
        "urls = [\"https://www.telia.ee/images/documents/TELIA_raport_EST_2024.pdf\",\n",
        "        \"https://www.telia.ee/images/documents/hinnakirjad/est/telia_eesti_ariteenused_yldosa.pdf\",\n",
        "        \"https://digitark.telia.ee/era/rohde-schwarz-eestis-on-mobiilse-interneti-kiirus-huppeliselt-kasvanud/\"]\n",
        "\n",
        "# to-do"
      ],
      "metadata": {
        "id": "LkOlJdECnBul"
      },
      "execution_count": null,
      "outputs": []
    },
    {
      "cell_type": "markdown",
      "source": [
        "## 1.2 alamülesanne\n",
        "\n",
        "Konverteeri allalaetud kaks PDF faili ja üks HTML fail MarkDown formaati ehk tavaliseks tekstiks. Pilte ei ole vaja konverteerida. Prindi välja igast MarkDown failist esimesed 2000 tähemärki."
      ],
      "metadata": {
        "id": "Rc0khw2y7HV9"
      }
    },
    {
      "cell_type": "code",
      "source": [
        "# to-do"
      ],
      "metadata": {
        "id": "SzDZRB9fCAE1"
      },
      "execution_count": null,
      "outputs": []
    },
    {
      "cell_type": "markdown",
      "source": [
        "<font color='purple'>Põhjendus</font> - Miks valisid just sellise MarkDown formaati konverteerimise meetodi/meetodid? Mida nende andmete kohta arvad, kas neid on lihtne või raske teksti konverteerida?\n",
        "\n",
        "[KIRJALDA SIIN]"
      ],
      "metadata": {
        "id": "svxQgotXfETQ"
      }
    },
    {
      "cell_type": "markdown",
      "source": [
        "## 1.3 alamülesanne\n",
        "\n",
        "Tükelda tekstid juppideks (chunking). Vali ise jupi suurus ja jupitamise strateegia. Prindi igast allikast (algselt 2 PDF-i ja 1 HTML) vähemalt 2 loodud tekstijuppi."
      ],
      "metadata": {
        "id": "OILYuQ6ZafYi"
      }
    },
    {
      "cell_type": "code",
      "source": [
        "# to-do"
      ],
      "metadata": {
        "id": "MFllUJSBzQli"
      },
      "execution_count": null,
      "outputs": []
    },
    {
      "cell_type": "markdown",
      "source": [
        "<font color='purple'>Põhjendus</font> - Palun kirjelda, miks valisid sellise jupitamise strateegia:\n",
        "\n",
        "[KIRJALDA SIIN]"
      ],
      "metadata": {
        "id": "omZHR65k3jru"
      }
    },
    {
      "cell_type": "markdown",
      "source": [
        "## 1.4 alamülesanne\n",
        "\n",
        "Vektoriseeri jupid vabalt kättesaadava enda valitud teksti vektoriseerimise mudeliga (embedding model), nt HuggingFace'ist. Eelista väiksemat mudelit. Prindi välja kaks loodud vektorit."
      ],
      "metadata": {
        "id": "B5328FtN3g1V"
      }
    },
    {
      "cell_type": "code",
      "source": [
        "# to-do"
      ],
      "metadata": {
        "id": "2-J4BoY53_SL"
      },
      "execution_count": null,
      "outputs": []
    },
    {
      "cell_type": "markdown",
      "source": [
        "<font color='purple'>Põhjendus</font> - Palun kirjelda, miks valisid sellise vektoriseerimise mudeli.\n",
        "\n",
        "[KIRJELDA SIIN]"
      ],
      "metadata": {
        "id": "Cq2nuCQ94R55"
      }
    },
    {
      "cell_type": "markdown",
      "source": [
        "## 1.5 alamülesanne\n",
        "\n",
        "Leia vektorite sarnasuselt/kauguselt lähimad tekstijupid nendele fraasidele:\n",
        "\n",
        "\n",
        "    \"Mis on allalaadimiskiirus maanteedel?\",\n",
        "    \"Mis on vana uueks?\",\n",
        "    \"Kes on Andre Visse?\"\n",
        "\n",
        "\n",
        "Iga fraasi puhul prindi välja top 3 sarnaseimat tekstijuppi.\n",
        "\n"
      ],
      "metadata": {
        "id": "6sRpaby14cMH"
      }
    },
    {
      "cell_type": "code",
      "source": [
        "queries = [\n",
        "    \"Milline on allalaadimiskiirus maanteedel?\",\n",
        "    \"Mis on vana uueks?\",\n",
        "    \"Kes on Andre Visse?\"\n",
        "]\n",
        "\n",
        "# to-do"
      ],
      "metadata": {
        "id": "hsobbrKE4koO"
      },
      "execution_count": null,
      "outputs": []
    },
    {
      "cell_type": "markdown",
      "source": [
        "## 1.6 alamülesanne\n",
        "\n",
        "Kombineeri nüüd vektorite sarnasuse/kauguse otsing terminipõhise (keyword-based) otsinguga ehk tee hübriidotsing. Prindi välja iga fraasi kohta top 3 sarnaseimat tekstijuppi. Kasuta samu fraase nagu eelmises alamülesandes.\n",
        "\n",
        "Vihje: mõtle ka stoppsõnade peale"
      ],
      "metadata": {
        "id": "-DNhMevz8Dda"
      }
    },
    {
      "cell_type": "code",
      "source": [
        "# to-do"
      ],
      "metadata": {
        "id": "svCxdQfe78IP"
      },
      "execution_count": null,
      "outputs": []
    },
    {
      "cell_type": "markdown",
      "source": [
        "<font color='purple'>Põhjendus</font> - Kirjelda, kuidas oled tulemusega rahul. Kas hübriidotsing oli ainult vektorite võrdlemise meetodist parem või mitte? Miks? Kuidas saaks tulemust veelgi parandada?\n",
        "\n",
        "[KIRJELDA SIIN]"
      ],
      "metadata": {
        "id": "O1DoWBhs9ob0"
      }
    },
    {
      "cell_type": "markdown",
      "source": [
        "## 1.7. alamülesanne\n",
        "\n",
        "Vali HuggingFace'ist üks vabalt kättesaadav väike multilingual text-to-text mudel. Genereeri mudeliga vastus nendele sisendküsimustele:\n",
        "\n",
        "    \"Mis on allalaadimiskiirus maanteedel?\",\n",
        "    \"Mis on vana uueks?\",\n",
        "    \"Kes on Andre Visse?\"\n",
        "\n",
        "Prindi vastused välja.\n",
        "\n",
        "Eelista väikest mudelit, mida saaks kasutada Colab-iga. Kui vaja, kasuta Colab-i tasuta GPU-d (vaheta käitusaja tüüpi). Alternatiivis on ka [Kaggle](https://www.kaggle.com/)'is nädalas 30 tundi GPU-aega tasuta.\n",
        "\n",
        "Mudeli mälu vajaduse vähendamiseks võid kasutada kvantiseerimist.\n",
        "\n",
        "Genereeri vastused kasutades ainult mudelit, ära kasuta mõnda rakendust, API-t ega lisatööriistu."
      ],
      "metadata": {
        "id": "L7hOuKep99QT"
      }
    },
    {
      "cell_type": "code",
      "source": [
        "# to-do"
      ],
      "metadata": {
        "id": "yOwUNck_nfCm"
      },
      "execution_count": null,
      "outputs": []
    },
    {
      "cell_type": "markdown",
      "source": [
        "<font color='purple'>Põhjendus</font> - Kas mudeli vastused tunduvad head? Põhjenda. Kui ei ole head, siis miks? Mida saaks teha, et vastused oleksid paremad? Kui võrdlesid mitut mudelid, võid siin oma avastusi kirjeldada.\n",
        "\n",
        "[KIRJELDA SIIN]"
      ],
      "metadata": {
        "id": "ZeGDbs_017N1"
      }
    },
    {
      "cell_type": "markdown",
      "source": [
        "## 1.8 alamülesanne\n",
        "\n",
        "Küsi samad küsimused API kaudu mõnelt suuremalt mudelilt. Kasuta Google Gemini API-t, mille kaudu saab iga päev teatud mahu tasuta päringuid teha. Näiteks Gemini 2.0 Flash päringuid saab teha tasuta päevas 1500. Prindi küsimused ja API-lt saadud vastused välja.\n",
        "\n",
        "API-i key saab genereerida siin: https://aistudio.google.com/apikey\n",
        "\n",
        "Mudeli rate limit info siin: https://ai.google.dev/gemini-api/docs/rate-limits\n"
      ],
      "metadata": {
        "id": "ySy4uifgb9hS"
      }
    },
    {
      "cell_type": "code",
      "source": [
        "from google.colab import userdata\n",
        "gemini_api_key = userdata.get('gemini_api_key') # palun vaata, et sa oma API key'd meile ei saada"
      ],
      "metadata": {
        "id": "b5iESsBCbrpi"
      },
      "execution_count": null,
      "outputs": []
    },
    {
      "cell_type": "code",
      "source": [
        "# to-so"
      ],
      "metadata": {
        "id": "dYicpMejdPG0"
      },
      "execution_count": null,
      "outputs": []
    },
    {
      "cell_type": "markdown",
      "source": [
        "## 1.9 alamülesanne\n",
        "\n",
        "Muuda nüüd loogikat nii, et enne suurele keelemudelile (LLM-ile) päringu tegemist kasutad hübriidotsingut, et leida küsimusele hübriidotsinguga top 3 sarnaseimat tekstijuppi. Lisa LLM-i päringusse kontekstina need top 3 relevantset tekstijuppi. Prindi küsimused ja LLM-i vastused. Kasuta jätkuvalt Gemini API-t."
      ],
      "metadata": {
        "id": "zE4sgCAg8r4D"
      }
    },
    {
      "cell_type": "code",
      "source": [
        "# to-do"
      ],
      "metadata": {
        "id": "vGiVZ3dA82ON"
      },
      "execution_count": null,
      "outputs": []
    },
    {
      "cell_type": "markdown",
      "source": [
        "<font color='purple'>Põhjendus</font> - Kui andsid LLM-ile sisendina kaasa ka konteksti, mille põhjal vastata, siis kas vastus oli parem? Miks? Kas kõik vastused on nüüd õiged või võib olla mõnel ka aegunud info? Kuidas saaks aegunud info probleemi parandada?\n",
        "\n",
        "[KIRJELDA SIIN]"
      ],
      "metadata": {
        "id": "rhCInTstEqUm"
      }
    },
    {
      "cell_type": "markdown",
      "source": [
        "# 2. ülesanne - tööriistu kasutav keelemudel, valikuline ülesanne"
      ],
      "metadata": {
        "id": "zFNviDY1FdKr"
      }
    },
    {
      "cell_type": "markdown",
      "source": [
        "See on valikuline ülesanne. Kirjuta kood, mis võimaldab keelemudelil vastamisel kasutada mõnda tööriista (nn tool calling / function calling). Näiteks keelemudel teeb ise API päringu(id), et saada vastamiseks lisainfot. Tööriista(d), mida keelemudel ülesande lahendamiseks kasutab, võid valida ise. Samuti võid valida ise ülesande või küsimuse, mida keelemudel lahendama peab. Võid kasutada ka mitut keelemudeli päringut järjest või luua nn multi-agent süsteemi."
      ],
      "metadata": {
        "id": "RgehTsmnFffL"
      }
    },
    {
      "cell_type": "code",
      "source": [
        "# to-do"
      ],
      "metadata": {
        "id": "2Bj_ugj6xsnI"
      },
      "execution_count": null,
      "outputs": []
    },
    {
      "cell_type": "markdown",
      "source": [
        "<font color='purple'>Põhjendus (kui ülesannet tegid) </font> - Mida sinu tööriista(sid) kasutava keelemudeliga teha saab?\n",
        "\n",
        "[KIRJELDA SIIN]"
      ],
      "metadata": {
        "id": "-_Zu6YWLlT-m"
      }
    },
    {
      "cell_type": "markdown",
      "source": [
        "# Tagasiside"
      ],
      "metadata": {
        "id": "z3omFGLdWY4b"
      }
    },
    {
      "cell_type": "markdown",
      "source": [
        "<font color='purple'>Tagasiside</font> - Kirjuta vabas vormis, mis oli sinu jaoks lihtne ning mis keerulisem. Lisaks, mis osa oli kõige põnevam ning mida õppisid.\n",
        "\n",
        "[KIRJELDA SIIN]"
      ],
      "metadata": {
        "id": "bb5ZvdBzXNk8"
      }
    }
  ]
}